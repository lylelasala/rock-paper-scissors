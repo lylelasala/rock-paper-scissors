{
 "cells": [
  {
   "cell_type": "markdown",
   "metadata": {},
   "source": [
    "# Dictionaries & Sets"
   ]
  },
  {
   "cell_type": "markdown",
   "metadata": {},
   "source": [
    "## Tasks Today:\n",
    "\n",
    "1) Dictionary <br>\n",
    " &nbsp;&nbsp;&nbsp;&nbsp; a) Declaring (key, value) <br>\n",
    " &nbsp;&nbsp;&nbsp;&nbsp; b) Accessing Values <br>\n",
    " &nbsp;&nbsp;&nbsp;&nbsp; ------ Exercise #1 - Print the eye color of each person in a double nested dict <br>\n",
    " &nbsp;&nbsp;&nbsp;&nbsp; c) Adding New Pairs <br>\n",
    " &nbsp;&nbsp;&nbsp;&nbsp; d) Modifying Values <br>\n",
    " &nbsp;&nbsp;&nbsp;&nbsp; e) Removing Key, Value Pairs <br>\n",
    " &nbsp;&nbsp;&nbsp;&nbsp; f) Looping a Dictionary <br>\n",
    " &nbsp;&nbsp;&nbsp;&nbsp; g) Looping Only Keys <br>\n",
    " &nbsp;&nbsp;&nbsp;&nbsp; h) Looping Only Values <br>\n",
    " &nbsp;&nbsp;&nbsp;&nbsp; ------ Exercise #2 - Create a program\n",
    " that Prints All Key Value Pairs within a print .format()  <br>\n",
    " &nbsp;&nbsp;&nbsp;&nbsp; i) sorted() <br>\n",
    " &nbsp;&nbsp;&nbsp;&nbsp; j) Lists with Dictionaries <br>\n",
    " &nbsp;&nbsp;&nbsp;&nbsp; k) Dictionaries with Lists <br>\n",
    " &nbsp;&nbsp;&nbsp;&nbsp; l) Dictionaries with Dictionaries <br>\n",
    " &nbsp;&nbsp;&nbsp;&nbsp; ------ Exercise #3 - Write a Function that asks someone's name and address, and then stores that into a dictionary, which prints all names and addresses after they're done putting information in...  <br>\n",
    "2) Dictionaries vs. Lists (over time)<br>\n",
    "3) Set <br>\n",
    " &nbsp;&nbsp;&nbsp;&nbsp; a) Declaring <br>\n",
    " &nbsp;&nbsp;&nbsp;&nbsp; b) .add() <br>\n",
    " &nbsp;&nbsp;&nbsp;&nbsp; c) .remove() <br>\n",
    " &nbsp;&nbsp;&nbsp;&nbsp; d) .union() <br>\n",
    " &nbsp;&nbsp;&nbsp;&nbsp; e) .intersection() <br>\n",
    " &nbsp;&nbsp;&nbsp;&nbsp; f) .difference() <br>\n",
    " &nbsp;&nbsp;&nbsp;&nbsp; g) Frozen Set <br>\n",
    "4) Modules <br>\n",
    " &nbsp;&nbsp;&nbsp;&nbsp; a) Importing Entire Modules <br>\n",
    " &nbsp;&nbsp;&nbsp;&nbsp; b) Importing Methods Only <br>\n",
    " &nbsp;&nbsp;&nbsp;&nbsp; c) Using the 'as' Keyword <br>\n",
    " &nbsp;&nbsp;&nbsp;&nbsp; d) Creating a Module <br>\n",
    "5) Exercises <br>\n",
    " &nbsp;&nbsp;&nbsp;&nbsp; a) Build a Shopping Cart <br>\n",
    " &nbsp;&nbsp;&nbsp;&nbsp; b) Create Your Own Module <br>"
   ]
  },
  {
   "cell_type": "markdown",
   "metadata": {},
   "source": [
    "## Dictionary <br>\n",
    "<p>A collection of data with 'key:value' pairs. Dictionaries are ordered as of Python 3.6</p>"
   ]
  },
  {
   "cell_type": "markdown",
   "metadata": {},
   "source": [
    "##### Declaring (key, value)"
   ]
  },
  {
   "cell_type": "code",
   "execution_count": 2,
   "metadata": {},
   "outputs": [],
   "source": [
    "# keys always need to be unique\n",
    "# can you use integers(numbers) or strings as keys\n",
    "\n",
    "d_1 = {} #<-- empty dictionary\n",
    "\n",
    "#or\n",
    "\n",
    "d_2 = dict()\n",
    "\n",
    "# or \n",
    "# non-empty dictionary\n",
    "d_3 = {\n",
    "    \"Tom\": \"123 Main Street\",\n",
    "    \"Jerry\": \"456 Main Street\",\n",
    "    0: \"This is a zero\"\n",
    "}"
   ]
  },
  {
   "cell_type": "markdown",
   "metadata": {},
   "source": [
    "##### Accessing Values"
   ]
  },
  {
   "cell_type": "code",
   "execution_count": 3,
   "metadata": {},
   "outputs": [
    {
     "name": "stdout",
     "output_type": "stream",
     "text": [
      "123 Main Street\n",
      "456 Main Street\n",
      "This is a zero\n"
     ]
    }
   ],
   "source": [
    "#dict[key] This will give back the value\n",
    "print(d_3[\"Tom\"])\n",
    "print(d_3[\"Jerry\"])\n",
    "print(d_3[0])"
   ]
  },
  {
   "cell_type": "code",
   "execution_count": 6,
   "metadata": {},
   "outputs": [
    {
     "name": "stdout",
     "output_type": "stream",
     "text": [
      "noodles\n"
     ]
    }
   ],
   "source": [
    "# example of non-unique keys\n",
    "d_4 = {\n",
    "    \"name\": \"Pac-Man\",\n",
    "    \"name\": \"noodles\"\n",
    "}\n",
    "\n",
    "print(d_4[\"name\"])"
   ]
  },
  {
   "cell_type": "markdown",
   "metadata": {},
   "source": [
    "## In-Class Exercise #1 - Print a formatted statement from the dictionary below <br>\n",
    "<p>The output should be '2018 Chevrolet Silverado'</p>"
   ]
  },
  {
   "cell_type": "code",
   "execution_count": 8,
   "metadata": {},
   "outputs": [
    {
     "name": "stdout",
     "output_type": "stream",
     "text": [
      "2018 Chevrolet Silverado\n"
     ]
    }
   ],
   "source": [
    "# use the dict below\n",
    "truck = {\n",
    "    \"year\": 2018,\n",
    "    'make': 'Chevrolet',\n",
    "    'model': 'Silverado'\n",
    "}\n",
    "\n",
    "print(f'{truck[\"year\"]} {truck[\"make\"]} {truck[\"model\"]}')"
   ]
  },
  {
   "cell_type": "code",
   "execution_count": 13,
   "metadata": {},
   "outputs": [
    {
     "name": "stdout",
     "output_type": "stream",
     "text": [
      "2018 Chevrolet Silverado\n"
     ]
    }
   ],
   "source": [
    "truck = {\n",
    "    \"year\": 2018,\n",
    "    \"make\": \"Chevrolet\",\n",
    "    \"model\": \"Silverado\"\n",
    "}\n",
    "\n",
    "print(f'{truck[\"year\"]} {truck[\"make\"]} {truck[\"model\"]}')"
   ]
  },
  {
   "cell_type": "code",
   "execution_count": 14,
   "metadata": {},
   "outputs": [
    {
     "name": "stdout",
     "output_type": "stream",
     "text": [
      "2018 Chevrolet Silverado\n"
     ]
    }
   ],
   "source": [
    "print(truck[\"year\"], truck[\"make\"], truck[\"model\"])"
   ]
  },
  {
   "cell_type": "code",
   "execution_count": null,
   "metadata": {},
   "outputs": [],
   "source": []
  },
  {
   "cell_type": "markdown",
   "metadata": {},
   "source": [
    "##### Adding New Pairs"
   ]
  },
  {
   "cell_type": "code",
   "execution_count": null,
   "metadata": {},
   "outputs": [],
   "source": [
    "#dict[key] = value"
   ]
  },
  {
   "cell_type": "code",
   "execution_count": 6,
   "metadata": {},
   "outputs": [
    {
     "name": "stdout",
     "output_type": "stream",
     "text": [
      "{'Tom': '123 Main Street', 'Jerry': '456 Main Street', 0: 'This is a zero', 'Spike': '789 Main Street', 'Tike': '789 Main Street'}\n",
      "{}\n",
      "{'beverage': 'water'}\n"
     ]
    }
   ],
   "source": [
    "#dict[key] = value\n",
    "d_3 = {\n",
    "    \"Tom\": \"123 Main Street\",\n",
    "    \"Jerry\": \"456 Main Street\",\n",
    "    0: \"This is a zero\"\n",
    "}\n",
    "\n",
    "d_3[\"Spike\"] = \"789 Main Street\"\n",
    "d_3[\"Tike\"] = \"789 Main Street\"\n",
    "\n",
    "print(d_3)\n",
    "\n",
    "d_4 = {}\n",
    "print(d_4)\n",
    "\n",
    "d_4['beverage'] = 'water'\n",
    "print(d_4)\n"
   ]
  },
  {
   "cell_type": "markdown",
   "metadata": {},
   "source": [
    "##### Modifying Values"
   ]
  },
  {
   "cell_type": "code",
   "execution_count": 7,
   "metadata": {},
   "outputs": [
    {
     "name": "stdout",
     "output_type": "stream",
     "text": [
      "{'beverage': 'water'}\n",
      "{'beverage': 'coffee'}\n",
      "{'beverage': 'coffee', 'beverage2': 'belle vie'}\n"
     ]
    }
   ],
   "source": [
    "#dict[key] = \"new value\" if key already exists in dictionary\n",
    "#Go back to this.....\n",
    "print(d_4)\n",
    "d_4['beverage'] = 'coffee'\n",
    "print(d_4)\n",
    "\n",
    "drink = \"belle vie\"\n",
    "\n",
    "if drink not in d_4:\n",
    "    d_4['beverage2'] = drink\n",
    "    \n",
    "print(d_4)"
   ]
  },
  {
   "cell_type": "code",
   "execution_count": 8,
   "metadata": {},
   "outputs": [
    {
     "name": "stdout",
     "output_type": "stream",
     "text": [
      "{'beverage': 'coffee', 'beverage2': 'belle vie'}\n",
      "{'beverage': 'coffee', 'beverage2': 'belle vie'}\n",
      "{'beverage': 'coffee', 'beverage2': 'topo chico'}\n"
     ]
    }
   ],
   "source": [
    "#dict[key] = \"new value\" if key already exists in dictionary\n",
    "print(d_4)\n",
    "d_4['beverage'] = 'coffee'\n",
    "print(d_4)\n",
    "\n",
    "drink = \"belle vie\"\n",
    "\n",
    "if 'beverage2' not in d_4:\n",
    "    d_4['beverage2'] = drink\n",
    "else:\n",
    "    d_4['beverage2'] = 'topo chico'\n",
    "    \n",
    "print(d_4)"
   ]
  },
  {
   "cell_type": "code",
   "execution_count": 9,
   "metadata": {},
   "outputs": [
    {
     "name": "stdout",
     "output_type": "stream",
     "text": [
      "{'Tom': '123 Main Street', 'Jerry': '789 Main Street', 0: 'This is a zero', 'Spike': '789 Main Street', 'Tike': '789 Main Street'}\n"
     ]
    }
   ],
   "source": [
    "d_3['Jerry'] = '789 Main Street'\n",
    "print(d_3)"
   ]
  },
  {
   "cell_type": "markdown",
   "metadata": {},
   "source": [
    "##### Removing Key, Value Pairs"
   ]
  },
  {
   "cell_type": "code",
   "execution_count": 8,
   "metadata": {},
   "outputs": [
    {
     "name": "stdout",
     "output_type": "stream",
     "text": [
      "{'Tom': '123 Main Street', 'Jerry': '456 Main Street', 0: 'This is a zero'}\n"
     ]
    }
   ],
   "source": [
    "# del dict[key]\n",
    "# del(my_list[0]) or del dict[key] or del my_list[0]\n",
    "\n",
    "print(d_3)\n",
    "\n",
    "del d_3[0]"
   ]
  },
  {
   "cell_type": "code",
   "execution_count": 10,
   "metadata": {},
   "outputs": [
    {
     "name": "stdout",
     "output_type": "stream",
     "text": [
      "{'Tom': '123 Main Street', 'Jerry': '456 Main Street', 'Spike': '789 Main Street'}\n"
     ]
    },
    {
     "ename": "KeyError",
     "evalue": "0",
     "output_type": "error",
     "traceback": [
      "\u001b[1;31m---------------------------------------------------------------------------\u001b[0m",
      "\u001b[1;31mKeyError\u001b[0m                                  Traceback (most recent call last)",
      "\u001b[1;32m~\\AppData\\Local\\Temp\\ipykernel_11220\\826695373.py\u001b[0m in \u001b[0;36m<module>\u001b[1;34m\u001b[0m\n\u001b[0;32m      1\u001b[0m \u001b[0mprint\u001b[0m\u001b[1;33m(\u001b[0m\u001b[0md_3\u001b[0m\u001b[1;33m)\u001b[0m\u001b[1;33m\u001b[0m\u001b[1;33m\u001b[0m\u001b[0m\n\u001b[0;32m      2\u001b[0m \u001b[0md_3\u001b[0m\u001b[1;33m[\u001b[0m\u001b[1;34m'Jerry'\u001b[0m\u001b[1;33m]\u001b[0m \u001b[1;33m=\u001b[0m \u001b[1;34m\"456 Main Street\"\u001b[0m\u001b[1;33m\u001b[0m\u001b[1;33m\u001b[0m\u001b[0m\n\u001b[1;32m----> 3\u001b[1;33m \u001b[1;32mdel\u001b[0m \u001b[0md_3\u001b[0m\u001b[1;33m[\u001b[0m\u001b[1;36m0\u001b[0m\u001b[1;33m]\u001b[0m\u001b[1;33m\u001b[0m\u001b[1;33m\u001b[0m\u001b[0m\n\u001b[0m\u001b[0;32m      4\u001b[0m \u001b[1;33m\u001b[0m\u001b[0m\n\u001b[0;32m      5\u001b[0m \u001b[0mprint\u001b[0m\u001b[1;33m(\u001b[0m\u001b[0md_3\u001b[0m\u001b[1;33m)\u001b[0m\u001b[1;33m\u001b[0m\u001b[1;33m\u001b[0m\u001b[0m\n",
      "\u001b[1;31mKeyError\u001b[0m: 0"
     ]
    }
   ],
   "source": [
    "print(d_3)\n",
    "d_3['Jerry'] = \"456 Main Street\"\n",
    "del d_3[0]\n",
    "\n",
    "print(d_3)"
   ]
  },
  {
   "cell_type": "markdown",
   "metadata": {},
   "source": [
    "##### Looping a Dictionary"
   ]
  },
  {
   "cell_type": "code",
   "execution_count": 13,
   "metadata": {},
   "outputs": [
    {
     "name": "stdout",
     "output_type": "stream",
     "text": [
      "Tom lives at this address: 123 Main Street\n",
      "Jerry lives at this address: 789 Main Street\n",
      "0 lives at this address: This is a zero\n",
      "Spike lives at this address: 789 Main Street\n",
      "Tike lives at this address: 789 Main Street\n"
     ]
    }
   ],
   "source": [
    "#dict.item()\n",
    "d_3 = {'Tom': '123 Main Street', 'Jerry': '789 Main Street', 0: 'This is a zero', 'Spike': '789 Main Street', 'Tike': '789 Main Street'}\n",
    "for k, v in d_3.items():\n",
    "    print(f\"{k} lives at this address: {v}\")"
   ]
  },
  {
   "cell_type": "code",
   "execution_count": 6,
   "metadata": {},
   "outputs": [
    {
     "name": "stdout",
     "output_type": "stream",
     "text": [
      "0 desiree\n",
      "1 chuck\n",
      "2 hyun-tae\n",
      "3 alex\n",
      "4 abdel\n",
      "\n",
      "\n",
      "0 desiree\n",
      "1 chuck\n",
      "2 hyun-tae\n",
      "3 alex\n",
      "4 abdel\n",
      "{0: 'desiree', 1: 'chuck', 2: 'hyun-tae', 3: 'alex', 4: 'abdel'}\n",
      "{0: 'desiree', 1: 'chuck', 2: 'hyun-tae', 3: 'alex', 4: 'abdel'}\n"
     ]
    }
   ],
   "source": [
    "# enumerating a list and adding it to a dictionary\n",
    "my_list = [\"desiree\", \"chuck\", \"hyun-tae\", \"alex\", \"abdel\"]\n",
    "names_dict = {}\n",
    "\n",
    "for i, name in enumerate(my_list):\n",
    "    print(i, name)\n",
    "    names_dict[i] = name\n",
    "print(\"\\n\")    \n",
    "for k, v in names_dict.items():\n",
    "    print(k,v)\n",
    "print(names_dict)\n",
    "#-----------------------------------------------------------\n",
    "names_dict2 = {i: name for i, name in enumerate(my_list)}\n",
    "\n",
    "print(names_dict2)"
   ]
  },
  {
   "cell_type": "code",
   "execution_count": 5,
   "metadata": {},
   "outputs": [
    {
     "name": "stdout",
     "output_type": "stream",
     "text": [
      "0 desiree\n",
      "1 chuck\n",
      "2 hyun-tae\n",
      "3 alex\n",
      "4 abdel\n",
      "\n",
      "\n",
      "0 desiree\n",
      "1 chuck\n",
      "2 hyun-tae\n",
      "3 alex\n",
      "4 abdel\n",
      "{0: 'desiree', 1: 'chuck', 2: 'hyun-tae', 3: 'alex', 4: 'abdel'}\n"
     ]
    }
   ],
   "source": [
    "my_list = [\"desiree\", \"chuck\", \"hyun-tae\", \"alex\", \"abdel\"]\n",
    "names_dict = {}\n",
    "\n",
    "for i, name in enumerate(my_list):\n",
    "    print(i, name)\n",
    "    names_dict[i] = name\n",
    "print(\"\\n\")    \n",
    "for k, v in names_dict.items():\n",
    "    print(k,v)\n",
    "print(names_dict)"
   ]
  },
  {
   "cell_type": "markdown",
   "metadata": {},
   "source": [
    "##### Looping Only Keys"
   ]
  },
  {
   "cell_type": "code",
   "execution_count": 8,
   "metadata": {},
   "outputs": [
    {
     "ename": "IndentationError",
     "evalue": "unexpected indent (1766944550.py, line 6)",
     "output_type": "error",
     "traceback": [
      "\u001b[1;36m  Cell \u001b[1;32mIn[8], line 6\u001b[1;36m\u001b[0m\n\u001b[1;33m    for name in d_3.keys():\u001b[0m\n\u001b[1;37m    ^\u001b[0m\n\u001b[1;31mIndentationError\u001b[0m\u001b[1;31m:\u001b[0m unexpected indent\n"
     ]
    }
   ],
   "source": [
    "#dict.keys()\n",
    "d_3 = {'Tom': '123 Main Street', 'Jerry': '789 Main Street', 0: 'This is a zero', 'Spike': '789 Main Street', 'Tike': '789 Main Street'}\n",
    "for key in d_3:\n",
    "    print(key)\n",
    "print(\"\\n\")\n",
    "    for name in d_3.keys():\n",
    "        print(name)"
   ]
  },
  {
   "cell_type": "markdown",
   "metadata": {},
   "source": [
    "##### Looping Only Values"
   ]
  },
  {
   "cell_type": "code",
   "execution_count": 11,
   "metadata": {
    "scrolled": true
   },
   "outputs": [
    {
     "name": "stdout",
     "output_type": "stream",
     "text": [
      "123 Main Street\n",
      "789 Main Street\n",
      "This is a zero\n",
      "789 Main Street\n",
      "789 Main Street\n",
      "Tom Lives Here\n",
      "789 Main Street789 Main Street60618\n",
      "This is a zero\n",
      "789 Main Street789 Main Street60618\n",
      "789 Main Street789 Main Street60618789 Main Street789 Main Street6061860618\n"
     ]
    }
   ],
   "source": [
    "#dict.values()\n",
    "d_3 = {'Tom': '123 Main Street', 'Jerry': '789 Main Street', 0: 'This is a zero', 'Spike': '789 Main Street', 'Tike': '789 Main Street'}\n",
    "\n",
    "for address in d_3.values():\n",
    "    print(address)\n",
    "    \n",
    "for address in d_3.values():\n",
    "    if address == \"123 Main Street\":\n",
    "        print(\"Tom Lives Here\")\n",
    "    elif address == \"789 Main Street\":\n",
    "        d_3[\"Spike\"] += d_3[\"Spike\"] + '60618'\n",
    "        \n",
    "        print(d_3[\"Spike\"])\n",
    "    else:\n",
    "        print(address)"
   ]
  },
  {
   "cell_type": "markdown",
   "metadata": {},
   "source": [
    "## In-Class Exercise #2 - Create a Function that Prints All Key Value Pairs within a formatted string  <br>\n",
    "<p><b>Output should be:</b><br>\n",
    "Max has blue eyes<br>\n",
    "Lilly has brown eyes<br>\n",
    "Barney has blue eyes<br>\n",
    "etc.\n",
    "</p>"
   ]
  },
  {
   "cell_type": "code",
   "execution_count": 12,
   "metadata": {},
   "outputs": [
    {
     "ename": "SyntaxError",
     "evalue": "invalid syntax (536949107.py, line 8)",
     "output_type": "error",
     "traceback": [
      "\u001b[1;36m  Cell \u001b[1;32mIn[12], line 8\u001b[1;36m\u001b[0m\n\u001b[1;33m    for key in {}:\u001b[0m\n\u001b[1;37m    ^\u001b[0m\n\u001b[1;31mSyntaxError\u001b[0m\u001b[1;31m:\u001b[0m invalid syntax\n"
     ]
    }
   ],
   "source": [
    "# use the dict below\n",
    "people = {\n",
    "    'Max' : 'blue',\n",
    "    'Lilly' : 'brown',\n",
    "    'Barney' : 'green',\n",
    "    'Ted' : 'purple',\n",
    "    'Sasuke' : 'sharingan'    \n",
    "}\n",
    "    \n",
    "\n",
    "\n"
   ]
  },
  {
   "cell_type": "code",
   "execution_count": 13,
   "metadata": {},
   "outputs": [
    {
     "ename": "NameError",
     "evalue": "name 'people' is not defined",
     "output_type": "error",
     "traceback": [
      "\u001b[1;31m---------------------------------------------------------------------------\u001b[0m",
      "\u001b[1;31mNameError\u001b[0m                                 Traceback (most recent call last)",
      "Cell \u001b[1;32mIn[13], line 1\u001b[0m\n\u001b[1;32m----> 1\u001b[0m \u001b[38;5;28;01mfor\u001b[39;00m key, value \u001b[38;5;129;01min\u001b[39;00m \u001b[43mpeople\u001b[49m\u001b[38;5;241m.\u001b[39mitems():\n\u001b[0;32m      2\u001b[0m     \u001b[38;5;28;01mif\u001b[39;00m value \u001b[38;5;241m!=\u001b[39m \u001b[38;5;124m\"\u001b[39m\u001b[38;5;124msharingan\u001b[39m\u001b[38;5;124m\"\u001b[39m:\n\u001b[0;32m      3\u001b[0m         \u001b[38;5;28mprint\u001b[39m(\u001b[38;5;124mf\u001b[39m\u001b[38;5;124m'''\u001b[39m\u001b[38;5;132;01m{\u001b[39;00mkey\u001b[38;5;241m.\u001b[39mtitle()\u001b[38;5;132;01m}\u001b[39;00m\u001b[38;5;124m has \u001b[39m\u001b[38;5;132;01m{\u001b[39;00mvalue\u001b[38;5;132;01m}\u001b[39;00m\u001b[38;5;124m eyes.\u001b[39m\u001b[38;5;124m'''\u001b[39m)\n",
      "\u001b[1;31mNameError\u001b[0m: name 'people' is not defined"
     ]
    }
   ],
   "source": [
    "for key, value in people.items():\n",
    "    if value != \"sharingan\":\n",
    "        print(f'''{key.title()} has {value} eyes.''')\n",
    "    else:\n",
    "        print(f'''NANDAYO?! {key.upper()}'S {value.upper()} EYES HAVE AWAKENED!''')\n",
    "print(f\"etc.\")"
   ]
  },
  {
   "cell_type": "code",
   "execution_count": 14,
   "metadata": {},
   "outputs": [
    {
     "ename": "SyntaxError",
     "evalue": "unterminated string literal (detected at line 2) (3931961312.py, line 2)",
     "output_type": "error",
     "traceback": [
      "\u001b[1;36m  Cell \u001b[1;32mIn[14], line 2\u001b[1;36m\u001b[0m\n\u001b[1;33m    print(f\"{n} has {c}\" \" eyes\")               couldn't figure out how where to put the .title()\u001b[0m\n\u001b[1;37m                                                      ^\u001b[0m\n\u001b[1;31mSyntaxError\u001b[0m\u001b[1;31m:\u001b[0m unterminated string literal (detected at line 2)\n"
     ]
    }
   ],
   "source": [
    "for n, c in people.items():\n",
    "    print(f\"{n} has {c}\" \" eyes\")               couldn't figure out how where to put the .title()"
   ]
  },
  {
   "cell_type": "code",
   "execution_count": null,
   "metadata": {},
   "outputs": [],
   "source": []
  },
  {
   "cell_type": "code",
   "execution_count": null,
   "metadata": {},
   "outputs": [],
   "source": []
  },
  {
   "cell_type": "code",
   "execution_count": null,
   "metadata": {},
   "outputs": [],
   "source": []
  },
  {
   "cell_type": "markdown",
   "metadata": {},
   "source": [
    "##### sorted()"
   ]
  },
  {
   "cell_type": "code",
   "execution_count": 7,
   "metadata": {},
   "outputs": [
    {
     "name": "stdout",
     "output_type": "stream",
     "text": [
      "Values ['blue', 'brown', 'green', 'purple', 'sharingan']\n",
      "Keys ['Barney', 'Lilly', 'Max', 'Sasuke', 'Ted']\n",
      "Key Value Pairs [('Barney', 'green'), ('Lilly', 'brown'), ('Max', 'blue'), ('Sasuke', 'sharingan'), ('Ted', 'purple')]\n",
      "[('Barney', 'green'), ('Lilly', 'brown'), ('Max', 'blue'), ('Sasuke', 'sharingan'), ('Ted', 'purple')]\n",
      "green\n",
      "[['Barney', 'red'], ('Lilly', 'brown'), ('Max', 'blue'), ('Sasuke', 'sharingan'), ('Ted', 'purple')]\n"
     ]
    }
   ],
   "source": [
    "# if we wrap dict.items() with sorted () it returns a list of tuples sorted by key\n",
    "people = {\n",
    "    'Max' : 'blue',\n",
    "    'Lilly' : 'brown',\n",
    "    'Barney' : 'green',\n",
    "    'Ted' : 'purple',\n",
    "    'Sasuke' : 'sharingan'    \n",
    "}\n",
    "    \n",
    "print(\"Values\", sorted (people.values()))\n",
    "print(\"Keys\", sorted(people.keys()))\n",
    "print(\"Key\", \"Value Pairs\", sorted(people.items()))\n",
    "\n",
    "sorted_items = sorted(people.items())\n",
    "print(sorted_items)\n",
    "\n",
    "#indexing into a list with iterables inside of it\n",
    "print(sorted_items[0][1]) \n",
    "\n",
    "new_list = [['Barney', 'green'], ('Lilly', 'brown'), ('Max', 'blue'), ('Sasuke', 'sharingan'), ('Ted', 'purple')]\n",
    "new_list[0][1] = \"red\"\n",
    "print(new_list)"
   ]
  },
  {
   "cell_type": "markdown",
   "metadata": {},
   "source": [
    "##### List with Dictionaries"
   ]
  },
  {
   "cell_type": "code",
   "execution_count": 11,
   "metadata": {},
   "outputs": [
    {
     "name": "stdout",
     "output_type": "stream",
     "text": [
      "gaara\n",
      "Naruto\n"
     ]
    }
   ],
   "source": [
    "shinobi = [\"shikamaru\", \"gaara\", \"octopops\", {\"leaf_village\": \"Naruto\", \"leaf_village2\": \"kakashi}\"}]\n",
    "\n",
    "print(shinobi[1])\n",
    "print(shinobi[3]['leaf_village'])"
   ]
  },
  {
   "cell_type": "code",
   "execution_count": 14,
   "metadata": {},
   "outputs": [
    {
     "name": "stdout",
     "output_type": "stream",
     "text": [
      "['dave', 'sandy', 'tony', {'random_person1': 'Barb', 'random_person2': 'bart'}, 'tom']\n",
      "Barb\n"
     ]
    }
   ],
   "source": [
    "names = ['dave', 'sandy', 'tony', {'random_person1': 'Barb', 'random_person2': 'bart'}, 'tom']\n",
    "print(names)\n",
    "print(names [3]['random_person1']) \n",
    "\n"
   ]
  },
  {
   "cell_type": "code",
   "execution_count": null,
   "metadata": {},
   "outputs": [],
   "source": [
    "names = ['dave', 'sandy', 'tony', {'random_person1': 'Barb', 'random_person2': 'bart'}, 'tom']\n",
    "print(names)\n",
    "print(names [3]['random_person1']) \n",
    "\n"
   ]
  },
  {
   "cell_type": "markdown",
   "metadata": {},
   "source": [
    "##### Dictionaries with Lists"
   ]
  },
  {
   "cell_type": "code",
   "execution_count": 16,
   "metadata": {},
   "outputs": [
    {
     "name": "stdout",
     "output_type": "stream",
     "text": [
      "1\n",
      "90\n"
     ]
    }
   ],
   "source": [
    "random_data = {\n",
    "    'list_1': [54, 67, 90],\n",
    "    'names': ['john', 'laura', 'bulbasaur'],\n",
    "    1:[1,1,1,1,]\n",
    "    \n",
    "    \n",
    "}\n",
    "print(random_data[1][1])\n",
    "print(random_data['list_1'][2])"
   ]
  },
  {
   "cell_type": "code",
   "execution_count": 21,
   "metadata": {},
   "outputs": [
    {
     "name": "stdout",
     "output_type": "stream",
     "text": [
      "transform\n"
     ]
    }
   ],
   "source": [
    "ditto = {\n",
    "    'abilities': [{'name': 'transform'}, {'name': 'another transform'}]\n",
    "}\n",
    "\n",
    "print(ditto['abilities'][0]['name'])"
   ]
  },
  {
   "cell_type": "markdown",
   "metadata": {},
   "source": [
    "##### Dictionaries with Dictionaries"
   ]
  },
  {
   "cell_type": "code",
   "execution_count": 23,
   "metadata": {
    "scrolled": true
   },
   "outputs": [],
   "source": [
    "food_dict = {\n",
    "    \"Ryan\": {\n",
    "        'mexican': ['tacos', 'tortas', 'burritos'],\n",
    "        'desserts': ['pie', 'brownies', 'cookies']\n",
    "    },\n",
    "    \n",
    "}"
   ]
  },
  {
   "cell_type": "code",
   "execution_count": null,
   "metadata": {},
   "outputs": [],
   "source": [
    "sneaker_dict = {\n",
    "    \"bobby\": {\n",
    "        'nike': ['airmax', 'jordan', 'cortez'],\n",
    "        'adidas': ['stanmsmiths', 'promodel', 'nmd']\n",
    "    },\n",
    "    \n",
    "}"
   ]
  },
  {
   "cell_type": "code",
   "execution_count": null,
   "metadata": {},
   "outputs": [],
   "source": [
    "food_dict = {\n",
    "    \"babby\": {\n",
    "        'korean': ['kbbq', 'bimbambop', 'bulgogi'],\n",
    "        'desserts': ['carrotcake', 'oatmealraisincookie', 'icecream']\n",
    "    },\n",
    "    \n",
    "}"
   ]
  },
  {
   "cell_type": "code",
   "execution_count": 26,
   "metadata": {},
   "outputs": [
    {
     "name": "stdout",
     "output_type": "stream",
     "text": [
      "\n",
      "Here are all our favortie foods!!! YAY!!\n"
     ]
    }
   ],
   "source": [
    "food_dict = {\n",
    "    \"Ryan\": {\n",
    "        \"Mexican\": [\"Tacos\", \"Tortas\", \"Burritos\"],\n",
    "        \"Desserts\": ['Pie', \"Brownies\", \"Chocolate Chip Cookies\"]\n",
    "    },\n",
    "    \"Alex\": {\n",
    "        \"Hispanic\": ['Pupusas', 'Tacos', 'Fajitas'],\n",
    "        \"Sweets\": ['Pastries', 'Ice Cream', 'Canollis'],\n",
    "        \"More Sweets\" : ['Cheesecake', 'Chantilly Cupcakes', 'Cobbler', 'Pie']\n",
    "    },\n",
    "     \"Ethan\": {\n",
    "        \"Rock\": ['KGLW', 'Uncle Spudd', 'Your moms house'], \n",
    "        'Rap': ['MF DOOM', 'Kendrick', 'Andrae 3000']\n",
    "    },\n",
    "    \"Enoch\": {\n",
    "        \"Japanese\":[\"Sushi\", \"Tempura\", \"Onigiri\"],\n",
    "        \"Desserts\":[\"Cheesecake\", \"Applie Pie\", \"Yuzu Creme Brulee\"]\n",
    "    },\n",
    "    \"Htae\": {\n",
    "        \"Ramen\": [\"Miso\", \"Shoyu\", \"Shin\"],\n",
    "        \"Drinks\": [\"Dr.Pepper\", \"Water\", \"Boba tea\"]\n",
    "    },\n",
    "    \"Dez\": {\n",
    "        \"Asian\":[\"Sushi\", \"Ramen\", \"Pho\", \"Curry\"],\n",
    "        \"Doughnt_shops\": [\"Sidecar\",\"Sk's\", \"Doughnuttery\"]\n",
    "    },\n",
    "    \"Dharti\": {\n",
    "        \"Indian\": [\"Paneer\",\"Rajma\",\"Naan\"],\n",
    "        \"Sweet\": [\"Jalabi\",\"Mohanthal\",\"icecream\"]\n",
    "    },\n",
    "      \"Lyle\": {\n",
    "        'nike': ['airmax', 'jordan', 'cortez'],\n",
    "        'adidas': ['stansmiths', 'promodel', 'nmd']\n",
    "    },\n",
    "    'Daniel' :{\n",
    "    'Afri':['garri', 'fufu', 'egusi'],\n",
    "    'easyfood':['rice', 'beans', 'eba']\n",
    "    },\n",
    "    \"Chuck\": {\n",
    "       \"American\" : ['Cheese_Burger', 'Fries', 'Coke'],\n",
    "       \"Desserts\" : ['Cheese_Cake', 'Milk_Shake', 'Cake'],\n",
    "    },\n",
    "    \"Ben\": {\n",
    "    \"Indian\": [\"Tika Masala\", \"Naan\", \"Chapati\", \"Chicken Curry\", \"Fish Curry\",],\n",
    "    \"Desserts\": [\"Cheesecake\", \"Empanadas\", \"Churros\", \"Ice Cream\", \"Mangonada\"],\n",
    "    },\n",
    "    'Ewa': {\n",
    "    'Italian': {\n",
    "        'Pizza': ['Margherita', 'Pepperoni', 'Capricciosa'],\n",
    "        'Pasta': ['Spaghetti Bolognese', 'Carbonara', 'Pesto'],\n",
    "        'Dessert': ['Tiramisu', 'Panna Cotta', 'Cannoli']\n",
    "    },\n",
    "    \n",
    "    'Mexican': {\n",
    "        'Tacos': ['Al Pastor', 'Carnitas', 'Barbacoa'],\n",
    "        'Burritos': ['Bean and Cheese', 'Carne Asada', 'Chicken'],\n",
    "        'Dessert': ['Churros', 'Flan', 'Sopapillas']\n",
    "    }},\n",
    "     \"Salim\" : {\n",
    "        \"turkish\" :[\"lent soup , kebaba , Gyro \"],\n",
    "        \"Dessert \" :[\"Baklava, basbousa ,maamoul\"]\n",
    "    }\n",
    "    \n",
    "    \n",
    "}\n",
    "\n",
    "\n",
    "print(\"\\nHere are all our favortie foods!!! YAY!!\")\n",
    "for name in food_dict.keys():\n",
    "    print"
   ]
  },
  {
   "cell_type": "code",
   "execution_count": 34,
   "metadata": {},
   "outputs": [
    {
     "name": "stdout",
     "output_type": "stream",
     "text": [
      "\n",
      "Here are all our favortie foods!!! YAY!!\n",
      "\n",
      "Ryan's favorite foods are: \n",
      "Tacos\n",
      "Tortas\n",
      "Burritos\n",
      "Pie\n",
      "Brownies\n",
      "Chocolate Chip Cookies\n",
      "\n",
      "Alex's favorite foods are: \n",
      "Pupusas\n",
      "Tacos\n",
      "Fajitas\n",
      "Pastries\n",
      "Ice Cream\n",
      "Canollis\n",
      "Cheesecake\n",
      "Chantilly Cupcakes\n",
      "Cobbler\n",
      "Pie\n",
      "\n",
      "Ethan's favorite foods are: \n",
      "KGLW\n",
      "Uncle Spudd\n",
      "Your moms house\n",
      "MF DOOM\n",
      "Kendrick\n",
      "Andrae 3000\n",
      "\n",
      "Enoch's favorite foods are: \n",
      "Sushi\n",
      "Tempura\n",
      "Onigiri\n",
      "Cheesecake\n",
      "Applie Pie\n",
      "Yuzu Creme Brulee\n",
      "\n",
      "Htae's favorite foods are: \n",
      "Miso\n",
      "Shoyu\n",
      "Shin\n",
      "Dr.Pepper\n",
      "Water\n",
      "Boba tea\n",
      "\n",
      "Dez's favorite foods are: \n",
      "Sushi\n",
      "Ramen\n",
      "Pho\n",
      "Curry\n",
      "Sidecar\n",
      "Sk's\n",
      "Doughnuttery\n",
      "\n",
      "Dharti's favorite foods are: \n",
      "Paneer\n",
      "Rajma\n",
      "Naan\n",
      "Jalabi\n",
      "Mohanthal\n",
      "icecream\n",
      "\n",
      "Lyle's favorite foods are: \n",
      "airmax\n",
      "jordan\n",
      "cortez\n",
      "stansmiths\n",
      "promodel\n",
      "nmd\n",
      "\n",
      "Daniel's favorite foods are: \n",
      "garri\n",
      "fufu\n",
      "egusi\n",
      "rice\n",
      "beans\n",
      "eba\n",
      "\n",
      "Chuck's favorite foods are: \n",
      "Cheese_Burger\n",
      "Fries\n",
      "Coke\n",
      "Cheese_Cake\n",
      "Milk_Shake\n",
      "Cake\n",
      "\n",
      "Ben's favorite foods are: \n",
      "Tika Masala\n",
      "Naan\n",
      "Chapati\n",
      "Chicken Curry\n",
      "Fish Curry\n",
      "Cheesecake\n",
      "Empanadas\n",
      "Churros\n",
      "Ice Cream\n",
      "Mangonada\n",
      "\n",
      "Ewa's favorite foods are: \n",
      "Pizza\n",
      "Pasta\n",
      "Dessert\n",
      "Tacos\n",
      "Burritos\n",
      "Dessert\n",
      "\n",
      "Salim's favorite foods are: \n",
      "lent soup , kebaba , Gyro \n",
      "Baklava, basbousa ,maamoul\n"
     ]
    }
   ],
   "source": [
    "\n",
    "print(\"\\nHere are all our favortie foods!!! YAY!!\")\n",
    "for name in food_dict.keys():\n",
    "    print(f\"\\n{name}'s favorite foods are: \")\n",
    "    for food_type in food_dict[name].keys():\n",
    "        for food in food_dict[name][food_type]:\n",
    "            print(food)\n",
    "            \n",
    "food_dict = {\n",
    "    \"Ryan\": {\n",
    "        \"Mexican\": [\"Tacos\", \"Tortas\", \"Burritos\"],\n",
    "        \"Desserts\": ['Pie', \"Brownies\", \"Chocolate Chip Cookies\"]\n",
    "    },\n",
    "    \"Alex\": {\n",
    "        \"Hispanic\": ['Pupusas', 'Tacos', 'Fajitas'],\n",
    "        \"Sweets\": ['Pastries', 'Ice Cream', 'Canollis'],\n",
    "        \"More Sweets\" : ['Cheesecake', 'Chantilly Cupcakes', 'Cobbler', 'Pie']\n",
    "    },\n",
    "     \"Ethan\": {\n",
    "        \"Rock\": ['KGLW', 'Uncle Spudd', 'Your moms house'], \n",
    "        'Rap': ['MF DOOM', 'Kendrick', 'Andrae 3000']\n",
    "    },\n",
    "    \"Enoch\": {\n",
    "        \"Japanese\":[\"Sushi\", \"Tempura\", \"Onigiri\"],\n",
    "        \"Desserts\":[\"Cheesecake\", \"Applie Pie\", \"Yuzu Creme Brulee\"]\n",
    "    },\n",
    "    \"Htae\": {\n",
    "        \"Ramen\": [\"Miso\", \"Shoyu\", \"Shin\"],\n",
    "        \"Drinks\": [\"Dr.Pepper\", \"Water\", \"Boba tea\"]\n",
    "    },\n",
    "    \"Dez\": {\n",
    "        \"Asian\":[\"Sushi\", \"Ramen\", \"Pho\", \"Curry\"],\n",
    "        \"Doughnt_shops\": [\"Sidecar\",\"Sk's\", \"Doughnuttery\"]\n",
    "    },\n",
    "    \"Dharti\": {\n",
    "        \"Indian\": [\"Paneer\",\"Rajma\",\"Naan\"],\n",
    "        \"Sweet\": [\"Jalabi\",\"Mohanthal\",\"icecream\"]\n",
    "    },\n",
    "      \"Lyle\": {\n",
    "        'nike': ['airmax', 'jordan', 'cortez'],\n",
    "        'adidas': ['stansmiths', 'promodel', 'nmd']\n",
    "    },\n",
    "    'Daniel' :{\n",
    "    'Afri':['garri', 'fufu', 'egusi'],\n",
    "    'easyfood':['rice', 'beans', 'eba']\n",
    "    },\n",
    "    \"Chuck\": {\n",
    "       \"American\" : ['Cheese_Burger', 'Fries', 'Coke'],\n",
    "       \"Desserts\" : ['Cheese_Cake', 'Milk_Shake', 'Cake'],\n",
    "    },\n",
    "    \"Ben\": {\n",
    "    \"Indian\": [\"Tika Masala\", \"Naan\", \"Chapati\", \"Chicken Curry\", \"Fish Curry\",],\n",
    "    \"Desserts\": [\"Cheesecake\", \"Empanadas\", \"Churros\", \"Ice Cream\", \"Mangonada\"],\n",
    "    },\n",
    "    'Ewa': {\n",
    "    'Italian': {\n",
    "        'Pizza': ['Margherita', 'Pepperoni', 'Capricciosa'],\n",
    "        'Pasta': ['Spaghetti Bolognese', 'Carbonara', 'Pesto'],\n",
    "        'Dessert': ['Tiramisu', 'Panna Cotta', 'Cannoli']\n",
    "    },\n",
    "    \n",
    "    'Mexican': {\n",
    "        'Tacos': ['Al Pastor', 'Carnitas', 'Barbacoa'],\n",
    "        'Burritos': ['Bean and Cheese', 'Carne Asada', 'Chicken'],\n",
    "        'Dessert': ['Churros', 'Flan', 'Sopapillas']\n",
    "    }},\n",
    "     \"Salim\" : {\n",
    "        \"turkish\" :[\"lent soup , kebaba , Gyro \"],\n",
    "        \"Dessert \" :[\"Baklava, basbousa ,maamoul\"]\n",
    "    }\n",
    "    \n",
    "    \n",
    "}\n",
    "\n"
   ]
  },
  {
   "cell_type": "code",
   "execution_count": null,
   "metadata": {},
   "outputs": [],
   "source": []
  },
  {
   "cell_type": "markdown",
   "metadata": {},
   "source": [
    "## Dictionaries vs. Lists (over time) Example of RUNTIME\n",
    "### When inputting values in a Dictionary vs List"
   ]
  },
  {
   "cell_type": "code",
   "execution_count": 14,
   "metadata": {},
   "outputs": [
    {
     "data": {
      "text/plain": [
       "<function print(*args, sep=' ', end='\\n', file=None, flush=False)>"
      ]
     },
     "execution_count": 14,
     "metadata": {},
     "output_type": "execute_result"
    }
   ],
   "source": [
    "import time\n",
    "\n",
    "#generate dictionary\n",
    "d = {}\n",
    "for i in range(10000000):\n",
    "    d[i] = \"value\" + str(i)\n",
    "    \n",
    "#generate a list\n",
    "big_list = [x for x in range (10000000)]\n",
    "print"
   ]
  },
  {
   "cell_type": "code",
   "execution_count": 20,
   "metadata": {},
   "outputs": [
    {
     "name": "stdout",
     "output_type": "stream",
     "text": [
      "value9999999\n",
      "elapsed time for dictionary: 0.0010039806365966797\n",
      "9999999\n",
      "elapsed time for list: 0.6096658706665039\n"
     ]
    }
   ],
   "source": [
    "#track time for the dictionary\n",
    "start_time = time.time()\n",
    "\n",
    "print(d[9999999])\n",
    "\n",
    "end_time = time.time() - start_time\n",
    "\n",
    "print(f\"elapsed time for dictionary: {end_time}\")\n",
    "\n",
    "#tracking time for the list\n",
    "Start_time = time.time()\n",
    "\n",
    "for i in range(len(big_list)):\n",
    "    if i == 9999999:\n",
    "        print(i)\n",
    "        \n",
    "end_time = time.time() - start_time\n",
    "print(f\"elapsed time for list: {end_time}\")"
   ]
  },
  {
   "cell_type": "code",
   "execution_count": null,
   "metadata": {},
   "outputs": [],
   "source": [
    "my_list = [1,2,3,4,5,6,7,8,9,10]"
   ]
  },
  {
   "cell_type": "markdown",
   "metadata": {},
   "source": [
    "## Exercise #3 - Write a Function that asks someone's name and address, and then stores that into a dictionary, and continues to do so until they choose to 'quit'. Once they quit, the program should print all names and addresses. <br>\n",
    "<p>\n",
    "<b>Proper steps:</b><br>\n",
    "step 1: write a function that takes in information and stores it in a dictionary<br>\n",
    "step 2: define an empty dictionary to work with<br>\n",
    "step 3: create our loop, which asks the user for information until they quit<br>\n",
    "step 4: ask for the information, and store it into variables<br>\n",
    "step 5: check if the user types quit<br>\n",
    "step 5a: print out all information<br>\n",
    "step 5b: break out of the loop<br>\n",
    "step 6: if they didn't quit, add the information to the dictionary<br>\n",
    "step 7: invoke the function by calling it\n",
    "</p>"
   ]
  },
  {
   "cell_type": "code",
   "execution_count": null,
   "metadata": {},
   "outputs": [],
   "source": [
    "#step 2:\n",
    "info = {}\n",
    "\n",
    "#step 3\n",
    "while True:\n",
    "    #step 4\n",
    "    name = input(\"Enter a name or say 'quit' to quit: \")\n",
    "    if name.lower().strip() != 'quit':\n",
    "        address = input (\"enter an address or say 'quit' to quit\")\n",
    "        \n",
    "        #step 5\n",
    "        if name.lower().strip() == 'quit' or address.lower().strip() == 'quit':\n",
    "            #step 5a\n",
    "            for key, value in info.items():\n",
    "                print(f\"The address for {key}, is {value}. Go visit them! But call first cause otherwise thats rude.\")\n",
    "                break\n",
    "                \n",
    "        info[name] = address       "
   ]
  },
  {
   "cell_type": "markdown",
   "metadata": {},
   "source": [
    "## Set <br>\n",
    "<p>A Set is an unordered collection data type that is iterable (loop), mutable, and has no duplicate elements.<br>Major advantage is that it is highly optimized in checking if something is in the set, as opposed to checking if something is in a list.</p>"
   ]
  },
  {
   "cell_type": "markdown",
   "metadata": {},
   "source": [
    "##### Declaring"
   ]
  },
  {
   "cell_type": "code",
   "execution_count": 1,
   "metadata": {
    "scrolled": false
   },
   "outputs": [
    {
     "name": "stdout",
     "output_type": "stream",
     "text": [
      "{8, 1, 4}\n",
      "{1, 2, 3, 4, 9}\n",
      "[1, 2, 3, 4, 9]\n"
     ]
    }
   ],
   "source": [
    "# set() or {}\n",
    "# [no order {3,2,1} might output as {2,3,1}]\n",
    "\n",
    "nums = {4,1,8,4}\n",
    "\n",
    "print(nums)\n",
    "\n",
    "# one way to remove all duplicates from a list\n",
    "my_list = [1,1,1,1,1,2,2,2,2,3,3,3,3,4,4,9,9,9,9]\n",
    "\n",
    "my_set = set(my_list)\n",
    "print(my_set)\n",
    "\n",
    "my_list = list(my_set)\n",
    "print(my_list)\n",
    "\n"
   ]
  },
  {
   "cell_type": "code",
   "execution_count": 2,
   "metadata": {
    "scrolled": true
   },
   "outputs": [
    {
     "name": "stdout",
     "output_type": "stream",
     "text": [
      "{8, 1, 4}\n",
      "{1, 2, 3, 4, 9}\n",
      "[1, 2, 3, 4, 9]\n",
      "5\n"
     ]
    }
   ],
   "source": [
    "# set() or {}\n",
    "# [no order {3,2,1} might output as {2,3,1}]\n",
    "\n",
    "nums = {4,1,8,4}\n",
    "\n",
    "print(nums)\n",
    "\n",
    "# one way to remove all duplicates from a list\n",
    "my_list = [1,1,1,1,1,2,2,2,2,3,3,3,3,4,4,9,9,9,9]\n",
    "\n",
    "my_set = set(my_list)\n",
    "print(my_set)\n",
    "\n",
    "my_list = list(my_set)\n",
    "print(my_list)\n",
    "\n",
    "#we cant index because sets are unordered\n",
    "# my_set[0]\n",
    "\n",
    "print(len(my_set))"
   ]
  },
  {
   "cell_type": "code",
   "execution_count": null,
   "metadata": {},
   "outputs": [],
   "source": []
  },
  {
   "cell_type": "markdown",
   "metadata": {},
   "source": [
    "##### .add()"
   ]
  },
  {
   "cell_type": "code",
   "execution_count": 3,
   "metadata": {},
   "outputs": [
    {
     "name": "stdout",
     "output_type": "stream",
     "text": [
      "{2, 4, 5, 7, 9}\n",
      "{2, 4, 5, 22, 7, 9}\n",
      "{2, 4, 5, 22, 7, 9, 'hello'}\n",
      "{2, 4, 5, 22, 7, 9, 'hello'}\n"
     ]
    }
   ],
   "source": [
    "#set.odd()\n",
    "\n",
    "my_set = {2,5,4,7,9}\n",
    "print(my_set)\n",
    "my_set.add(22)\n",
    "print(my_set)\n",
    "\n",
    "my_set.add('hello')\n",
    "print(my_set)\n",
    "\n",
    "my_set.add(2)\n",
    "\n",
    "print(my_set)"
   ]
  },
  {
   "cell_type": "markdown",
   "metadata": {},
   "source": [
    "##### .remove()"
   ]
  },
  {
   "cell_type": "code",
   "execution_count": 4,
   "metadata": {},
   "outputs": [
    {
     "name": "stdout",
     "output_type": "stream",
     "text": [
      "{4, 5, 7, 9}\n",
      "{4, 5, 7}\n"
     ]
    }
   ],
   "source": [
    "#my_set.remove(value)\n",
    "\n",
    "my_set = {2,5,4,7,9}\n",
    "\n",
    "my_set.remove(2)\n",
    "print(my_set)\n",
    "\n",
    "my_set.remove(9)\n",
    "print(my_set)"
   ]
  },
  {
   "cell_type": "markdown",
   "metadata": {},
   "source": [
    "##### .union() "
   ]
  },
  {
   "cell_type": "code",
   "execution_count": 5,
   "metadata": {},
   "outputs": [
    {
     "name": "stdout",
     "output_type": "stream",
     "text": [
      "{1, 2, 3, 4, 5, 6}\n",
      "{1, 2, 3, 4, 5, 6}\n"
     ]
    }
   ],
   "source": [
    "#union will combine two sets \n",
    "# can also | in place of .union()\n",
    "#my_set.union(my_set2)\n",
    "\n",
    "s1 = {1,2,3,4,}\n",
    "s2 = {3,4,5,6}\n",
    "\n",
    "s3 = s1.union(s2)\n",
    "print(s3)\n",
    "\n",
    "# or\n",
    "\n",
    "s4 = s2 | s1\n",
    "\n",
    "print(s4)"
   ]
  },
  {
   "cell_type": "markdown",
   "metadata": {},
   "source": [
    "##### .intersection()"
   ]
  },
  {
   "cell_type": "code",
   "execution_count": 6,
   "metadata": {},
   "outputs": [
    {
     "name": "stdout",
     "output_type": "stream",
     "text": [
      "{3, 4}\n",
      "{3, 4}\n"
     ]
    }
   ],
   "source": [
    "# return on intersection of two sets, can also use &\n",
    "# only return the similar elements of both sets\n",
    "s1 = {1,2,3,4}\n",
    "s2 = {3,4,5,6}\n",
    "\n",
    "s3 = s2.intersection(s1)\n",
    "\n",
    "print(s3)\n",
    "\n",
    "#or\n",
    "\n",
    "s4 = s2 & s1\n",
    "\n",
    "print(s4)"
   ]
  },
  {
   "cell_type": "markdown",
   "metadata": {},
   "source": [
    "##### .difference()"
   ]
  },
  {
   "cell_type": "code",
   "execution_count": 7,
   "metadata": {},
   "outputs": [
    {
     "name": "stdout",
     "output_type": "stream",
     "text": [
      "{1, 2}\n",
      "{5, 6}\n"
     ]
    }
   ],
   "source": [
    "# returns a set containing the elements of the invoking set that are not in the second set\n",
    "# can also ise '_'\n",
    "# order matters\n",
    "s1 = {1,2,3,4}\n",
    "s2 = {3,4,5,6}\n",
    "\n",
    "s7 = s1 - s2\n",
    "print(s7)\n",
    "\n",
    "\n",
    "\n",
    "#or\n",
    "\n",
    "s8 = s2.difference(s1)\n",
    "print(s8)"
   ]
  },
  {
   "cell_type": "markdown",
   "metadata": {},
   "source": [
    "##### .clear()"
   ]
  },
  {
   "cell_type": "code",
   "execution_count": 10,
   "metadata": {},
   "outputs": [
    {
     "name": "stdout",
     "output_type": "stream",
     "text": [
      "{3, 4, 5, 24, 11, 12}\n",
      "set()\n"
     ]
    }
   ],
   "source": [
    "#empties the whole set\n",
    "#set.clear()\n",
    "another_set = {3,4,5,12,11,24}\n",
    "print(another_set)\n",
    "\n",
    "another_set.clear()\n",
    "\n",
    "print(another_set)"
   ]
  },
  {
   "cell_type": "code",
   "execution_count": null,
   "metadata": {},
   "outputs": [],
   "source": []
  },
  {
   "cell_type": "markdown",
   "metadata": {},
   "source": [
    "##### Frozenset <br>\n",
    "<p>Frozen sets are immutable objects that only support methods and operators that produce a result without affecting the frozen set or sets to which they are applied.</p><br><b>Unique & Immutable</b>"
   ]
  },
  {
   "cell_type": "code",
   "execution_count": 12,
   "metadata": {},
   "outputs": [
    {
     "name": "stdout",
     "output_type": "stream",
     "text": [
      "{2, 3, 4, 5, 7, 'my dog is neat', 'hello'}\n",
      "frozenset({2, 3, 4, 5, 7, 'my dog is neat', 'hello'})\n",
      "{2, 3, 4, 5, 7, 'my dog is neat', 'hello'}\n"
     ]
    }
   ],
   "source": [
    "#frozenset()\n",
    "my_set = {2,3,4, \"hello\", 7, 'my dog is neat', 5}\n",
    "print(my_set)\n",
    "\n",
    "frozen_set = frozenset(my_set)\n",
    "print(frozen_set)\n",
    "\n",
    "#frozen_set.add(22)\n",
    "#frozen_set.remove(\"hello\")\n",
    "\n",
    "my_new_set = set(frozen_set)\n",
    "print(my_new_set)\n",
    "\n",
    "my_new_set.add(\"cool beans\")\n",
    "\n",
    "frozen_set = frozenset(my_new_set)\n"
   ]
  },
  {
   "cell_type": "markdown",
   "metadata": {},
   "source": [
    "# Exercises"
   ]
  },
  {
   "cell_type": "markdown",
   "metadata": {},
   "source": [
    "### 1) Build a Shopping Cart <br>\n",
    "<p><b>You can use either lists or dictionaries. The program should have the following capabilities:</b><br><br>\n",
    "1) Takes in input <br>\n",
    "2) Stores user input into a dictionary or list <br>\n",
    "3) The User can add or delete items <br>\n",
    "4) The User can see current shopping list <br>\n",
    "5) The program Loops until user 'quits' <br>\n",
    "6) Upon quiting the program, print out all items in the user's list <br>\n",
    "</p>"
   ]
  },
  {
   "cell_type": "code",
   "execution_count": null,
   "metadata": {},
   "outputs": [
    {
     "name": "stdout",
     "output_type": "stream",
     "text": [
      "Enter 'add' to add an item, 'delete' to remove an item, 'show' to display the current shopping cart, or 'quit' to exit.\n"
     ]
    }
   ],
   "source": [
    "from IPython.display import clear_output\n",
    "\n",
    "# Ask the user four bits of input: Do you want to : Show/Add/Delete or Quit?\n",
    "#-----------------------------------------------------------------------------------\n",
    "shopping_cart = []\n",
    "\n",
    "while True:\n",
    "    clear_output()  # clear the output\n",
    "    print(\"Enter 'add' to add an item, 'delete' to remove an item, 'show' to display the current shopping cart, or 'quit' to exit.\")\n",
    "    user_input = input(\"What would you like to do? \").lower()\n",
    "\n",
    "    if user_input == \"add\":\n",
    "        item = input(\"What would you like to add? \")\n",
    "#        quantity = int(input(\"How many? \"))\n",
    "#        shopping_cart[item] = quantity\n",
    "        \n",
    "        print(f\"{quantity} {item} added to the shopping cart.\")\n",
    "   \n",
    "    elif user_input == \"delete\":\n",
    "        if not shopping_cart:\n",
    "            print(\"Your shopping cart is empty.\")\n",
    "            continue\n",
    "        item = input(\"What item would you like to remove? \")\n",
    "        if item in shopping_cart:\n",
    "            shopping_cart.remove(item)\n",
    "            print(f\"{item} has been removed from your shopping cart.\")\n",
    "        else:\n",
    "            print(f\"{item} is not in your shopping cart.\")\n",
    "\n",
    "    elif user_input == \"show\":\n",
    "        if not shopping_cart:\n",
    "            print(\"Your shopping cart is empty.\")\n",
    "        else:\n",
    "            print(\"Here is your current shopping cart:\")\n",
    "            for item in shopping_cart:\n",
    "                print(\"- \" + item)\n",
    "\n",
    "                \n",
    "    elif user_input == \"quit\":\n",
    "        print(\"Thank you for shopping with us!\")\n",
    "        break\n",
    "\n",
    "    else:\n",
    "        print(\"Invalid input. Please try again.\")\n"
   ]
  },
  {
   "cell_type": "code",
   "execution_count": 3,
   "metadata": {},
   "outputs": [
    {
     "name": "stdout",
     "output_type": "stream",
     "text": [
      "Enter 'add' to add an item, 'delete' to remove an item, 'show' to display the current shopping cart, or 'quit' to exit.\n",
      "What would you like to do? add\n",
      "What item would you like to add? granola bar\n",
      "How many? 3\n",
      "granola bar has been added to your shopping cart.\n",
      "Enter 'add' to add an item, 'delete' to remove an item, 'show' to display the current shopping cart, or 'quit' to exit.\n",
      "What would you like to do? add\n",
      "What item would you like to add? milk\n",
      "How many? 4\n",
      "milk has been added to your shopping cart.\n",
      "Enter 'add' to add an item, 'delete' to remove an item, 'show' to display the current shopping cart, or 'quit' to exit.\n",
      "What would you like to do? show\n",
      "Here is your current shopping cart:\n",
      "- 3 granola bar\n",
      "- 4 milk\n",
      "Enter 'add' to add an item, 'delete' to remove an item, 'show' to display the current shopping cart, or 'quit' to exit.\n",
      "What would you like to do? quit\n",
      "Thank you for shopping with us!\n",
      "Here is a summary of your shopping cart:\n",
      "- 3 granola bar\n",
      "- 4 milk\n"
     ]
    }
   ],
   "source": [
    "#while loop funciton\n",
    "#list function\n",
    "# if, elif, else functions\n",
    "# last model lines 14 and 15 bad,made it simplier with f' and str() being used. Have the ability to find out how much of an item you've add i.e 2 eggs and 3 milks\n",
    "\n",
    "#--------------------------------------------------------\n",
    "shopping_cart = {}\n",
    "\n",
    "while True:\n",
    "    print(\"Enter 'add' to add an item, 'delete' to remove an item, 'show' to display the current shopping cart, or 'quit' to exit.\")\n",
    "    user = input(\"What would you like to do? \").lower()\n",
    "\n",
    "    if user == \"add\":\n",
    "        item = input(\"What item would you like to add? \")\n",
    "        quantity = int(input(\"How many? \"))\n",
    "        shopping_cart[item] = quantity\n",
    "        \n",
    "        print(f\"{item} has been added to your shopping cart.\")\n",
    "        \n",
    "    elif user == \"delete\":\n",
    "        if not shopping_cart:\n",
    "            print(\"Your shopping cart is empty.\")\n",
    "            continue\n",
    "        item = input(\"What item would you like to remove? \")\n",
    "        if item in shopping_cart:\n",
    "            del shopping_cart[item]\n",
    "            print(f\"{item} has been removed from your shopping cart.\")\n",
    "        else:\n",
    "            print(f\"{item} is not in your shopping cart.\")\n",
    "\n",
    "    elif user == \"show\":\n",
    "        if not shopping_cart:\n",
    "            print(\"Your shopping cart is empty.\")\n",
    "        else:\n",
    "            print(\"Here is your current shopping cart:\")\n",
    "            for item, quantity in shopping_cart.items():\n",
    "                print(\"- \" + str(quantity) + \" \" + item)\n",
    "\n",
    "    elif user == \"quit\":\n",
    "        print(\"Thank you for shopping with us!\")\n",
    "        break\n",
    "\n",
    "    else:\n",
    "        print(\"Invalid input. Please try again.\")\n",
    "        \n",
    "print(\"Here is a summary of your shopping cart:\")\n",
    "for item, quantity in shopping_cart.items():\n",
    "    print(\"- \" + str(quantity) + \" \" + item)\n"
   ]
  },
  {
   "cell_type": "code",
   "execution_count": null,
   "metadata": {
    "scrolled": true
   },
   "outputs": [],
   "source": [
    "#from IPython.display import clear_output\n",
    "#import time\n",
    "\n",
    "for i in range(10):\n",
    "    clear_output(wait=True)\n",
    "    print(f\"Counting: {i}\")\n",
    "    time.sleep(1)\n",
    "    break#"
   ]
  },
  {
   "cell_type": "markdown",
   "metadata": {},
   "source": [
    "### 2) Set Practice"
   ]
  },
  {
   "cell_type": "markdown",
   "metadata": {},
   "source": [
    "<p><b>Remove all duplicates from the following list</b></p>"
   ]
  },
  {
   "cell_type": "code",
   "execution_count": null,
   "metadata": {},
   "outputs": [],
   "source": [
    "nums_list = [1, 1, 1, 2, 2, 3, 5, 6, 4, 12, 11, 12, 12, 14, 16, 16, 16, 1, 1, 1, 2, 2]"
   ]
  },
  {
   "cell_type": "code",
   "execution_count": 26,
   "metadata": {},
   "outputs": [
    {
     "name": "stdout",
     "output_type": "stream",
     "text": [
      "[1, 2, 3, 4, 5, 6, 11, 12, 14, 16]\n"
     ]
    }
   ],
   "source": [
    "#set function\n",
    "nums_list = list(set(nums_list))\n",
    "\n",
    "print(nums_list)\n"
   ]
  },
  {
   "cell_type": "code",
   "execution_count": null,
   "metadata": {},
   "outputs": [],
   "source": []
  },
  {
   "cell_type": "markdown",
   "metadata": {},
   "source": [
    "<p><b>Out put the intersection of the following the following sets.</b></p>"
   ]
  },
  {
   "cell_type": "code",
   "execution_count": 27,
   "metadata": {},
   "outputs": [
    {
     "name": "stdout",
     "output_type": "stream",
     "text": [
      "{26, 27}\n",
      "{26, 27}\n"
     ]
    }
   ],
   "source": [
    "set1 = {20, 24, 26, 27}\n",
    "set2 = {26, 35, 63, 27}\n",
    "\n",
    "\n",
    "# Using the intersection() method:\n",
    "intersection = set1.intersection(set2)\n",
    "print(intersection)\n",
    "\n",
    "# Using the & operator:\n",
    "intersection = set1 & set2\n",
    "print(intersection)\n"
   ]
  },
  {
   "cell_type": "markdown",
   "metadata": {},
   "source": [
    "<p><b>Output the difference between the following sets</b></p>"
   ]
  },
  {
   "cell_type": "code",
   "execution_count": 4,
   "metadata": {},
   "outputs": [
    {
     "name": "stdout",
     "output_type": "stream",
     "text": [
      "{89, 100}\n",
      "{89, 100}\n"
     ]
    }
   ],
   "source": [
    "set3 = {100, 65, 89, 200}\n",
    "set4 = {65, 103, 54, 200}\n",
    "\n",
    "set3 = {100, 65, 89, 200}\n",
    "set4 = {65, 103, 54, 200}\n",
    "\n",
    "# Using the difference() method:\n",
    "difference = set3.difference(set4)\n",
    "print(difference)\n",
    "\n",
    "# Using the - operator:\n",
    "difference = set3 - set4\n",
    "print(difference)\n"
   ]
  }
 ],
 "metadata": {
  "kernelspec": {
   "display_name": "Python 3 (ipykernel)",
   "language": "python",
   "name": "python3"
  },
  "language_info": {
   "codemirror_mode": {
    "name": "ipython",
    "version": 3
   },
   "file_extension": ".py",
   "mimetype": "text/x-python",
   "name": "python",
   "nbconvert_exporter": "python",
   "pygments_lexer": "ipython3",
   "version": "3.9.13"
  }
 },
 "nbformat": 4,
 "nbformat_minor": 2
}
